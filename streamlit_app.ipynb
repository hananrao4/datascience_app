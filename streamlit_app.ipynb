{
 "cells": [
  {
   "cell_type": "code",
   "execution_count": 10,
   "metadata": {},
   "outputs": [
    {
     "ename": "StreamlitAPIException",
     "evalue": "Map data must contain a column named \"latitude\" or \"lat\".",
     "output_type": "error",
     "traceback": [
      "\u001b[1;31m---------------------------------------------------------------------------\u001b[0m",
      "\u001b[1;31mStreamlitAPIException\u001b[0m                     Traceback (most recent call last)",
      "\u001b[1;32m<ipython-input-10-d8aba60701fb>\u001b[0m in \u001b[0;36m<module>\u001b[1;34m\u001b[0m\n\u001b[0;32m     54\u001b[0m \u001b[1;31m# Show the figure\u001b[0m\u001b[1;33m\u001b[0m\u001b[1;33m\u001b[0m\u001b[1;33m\u001b[0m\u001b[0m\n\u001b[0;32m     55\u001b[0m \u001b[0mst\u001b[0m\u001b[1;33m.\u001b[0m\u001b[0mplotly_chart\u001b[0m\u001b[1;33m(\u001b[0m\u001b[0mfig\u001b[0m\u001b[1;33m,\u001b[0m\u001b[0muse_container_width\u001b[0m\u001b[1;33m=\u001b[0m\u001b[1;32mTrue\u001b[0m\u001b[1;33m)\u001b[0m\u001b[1;33m\u001b[0m\u001b[1;33m\u001b[0m\u001b[0m\n\u001b[1;32m---> 56\u001b[1;33m \u001b[0mst\u001b[0m\u001b[1;33m.\u001b[0m\u001b[0mmap\u001b[0m\u001b[1;33m(\u001b[0m\u001b[0mdataframe\u001b[0m\u001b[1;33m)\u001b[0m\u001b[1;33m\u001b[0m\u001b[1;33m\u001b[0m\u001b[0m\n\u001b[0m",
      "\u001b[1;32mD:\\ProgramData\\Anaconda3\\lib\\site-packages\\streamlit\\runtime\\metrics_util.py\u001b[0m in \u001b[0;36mwrapped_func\u001b[1;34m(*args, **kwargs)\u001b[0m\n\u001b[0;32m    309\u001b[0m                 \u001b[0m_LOGGER\u001b[0m\u001b[1;33m.\u001b[0m\u001b[0mdebug\u001b[0m\u001b[1;33m(\u001b[0m\u001b[1;34m\"Failed to collect command telemetry\"\u001b[0m\u001b[1;33m,\u001b[0m \u001b[0mexc_info\u001b[0m\u001b[1;33m=\u001b[0m\u001b[0mex\u001b[0m\u001b[1;33m)\u001b[0m\u001b[1;33m\u001b[0m\u001b[1;33m\u001b[0m\u001b[0m\n\u001b[0;32m    310\u001b[0m         \u001b[1;32mtry\u001b[0m\u001b[1;33m:\u001b[0m\u001b[1;33m\u001b[0m\u001b[1;33m\u001b[0m\u001b[0m\n\u001b[1;32m--> 311\u001b[1;33m             \u001b[0mresult\u001b[0m \u001b[1;33m=\u001b[0m \u001b[0mnon_optional_func\u001b[0m\u001b[1;33m(\u001b[0m\u001b[1;33m*\u001b[0m\u001b[0margs\u001b[0m\u001b[1;33m,\u001b[0m \u001b[1;33m**\u001b[0m\u001b[0mkwargs\u001b[0m\u001b[1;33m)\u001b[0m\u001b[1;33m\u001b[0m\u001b[1;33m\u001b[0m\u001b[0m\n\u001b[0m\u001b[0;32m    312\u001b[0m         \u001b[1;32mfinally\u001b[0m\u001b[1;33m:\u001b[0m\u001b[1;33m\u001b[0m\u001b[1;33m\u001b[0m\u001b[0m\n\u001b[0;32m    313\u001b[0m             \u001b[1;31m# Activate tracking again if command executes without any exceptions\u001b[0m\u001b[1;33m\u001b[0m\u001b[1;33m\u001b[0m\u001b[1;33m\u001b[0m\u001b[0m\n",
      "\u001b[1;32mD:\\ProgramData\\Anaconda3\\lib\\site-packages\\streamlit\\elements\\map.py\u001b[0m in \u001b[0;36mmap\u001b[1;34m(self, data, zoom, use_container_width)\u001b[0m\n\u001b[0;32m    124\u001b[0m         \"\"\"\n\u001b[0;32m    125\u001b[0m         \u001b[0mmap_proto\u001b[0m \u001b[1;33m=\u001b[0m \u001b[0mDeckGlJsonChartProto\u001b[0m\u001b[1;33m(\u001b[0m\u001b[1;33m)\u001b[0m\u001b[1;33m\u001b[0m\u001b[1;33m\u001b[0m\u001b[0m\n\u001b[1;32m--> 126\u001b[1;33m         \u001b[0mmap_proto\u001b[0m\u001b[1;33m.\u001b[0m\u001b[0mjson\u001b[0m \u001b[1;33m=\u001b[0m \u001b[0mto_deckgl_json\u001b[0m\u001b[1;33m(\u001b[0m\u001b[0mdata\u001b[0m\u001b[1;33m,\u001b[0m \u001b[0mzoom\u001b[0m\u001b[1;33m)\u001b[0m\u001b[1;33m\u001b[0m\u001b[1;33m\u001b[0m\u001b[0m\n\u001b[0m\u001b[0;32m    127\u001b[0m         \u001b[0mmap_proto\u001b[0m\u001b[1;33m.\u001b[0m\u001b[0muse_container_width\u001b[0m \u001b[1;33m=\u001b[0m \u001b[0muse_container_width\u001b[0m\u001b[1;33m\u001b[0m\u001b[1;33m\u001b[0m\u001b[0m\n\u001b[0;32m    128\u001b[0m         \u001b[1;32mreturn\u001b[0m \u001b[0mself\u001b[0m\u001b[1;33m.\u001b[0m\u001b[0mdg\u001b[0m\u001b[1;33m.\u001b[0m\u001b[0m_enqueue\u001b[0m\u001b[1;33m(\u001b[0m\u001b[1;34m\"deck_gl_json_chart\"\u001b[0m\u001b[1;33m,\u001b[0m \u001b[0mmap_proto\u001b[0m\u001b[1;33m)\u001b[0m\u001b[1;33m\u001b[0m\u001b[1;33m\u001b[0m\u001b[0m\n",
      "\u001b[1;32mD:\\ProgramData\\Anaconda3\\lib\\site-packages\\streamlit\\elements\\map.py\u001b[0m in \u001b[0;36mto_deckgl_json\u001b[1;34m(data, zoom)\u001b[0m\n\u001b[0;32m    175\u001b[0m         \u001b[0mlat\u001b[0m \u001b[1;33m=\u001b[0m \u001b[1;34m\"latitude\"\u001b[0m\u001b[1;33m\u001b[0m\u001b[1;33m\u001b[0m\u001b[0m\n\u001b[0;32m    176\u001b[0m     \u001b[1;32melse\u001b[0m\u001b[1;33m:\u001b[0m\u001b[1;33m\u001b[0m\u001b[1;33m\u001b[0m\u001b[0m\n\u001b[1;32m--> 177\u001b[1;33m         raise StreamlitAPIException(\n\u001b[0m\u001b[0;32m    178\u001b[0m             \u001b[1;34m'Map data must contain a column named \"latitude\" or \"lat\".'\u001b[0m\u001b[1;33m\u001b[0m\u001b[1;33m\u001b[0m\u001b[0m\n\u001b[0;32m    179\u001b[0m         )\n",
      "\u001b[1;31mStreamlitAPIException\u001b[0m: Map data must contain a column named \"latitude\" or \"lat\"."
     ]
    }
   ],
   "source": [
    "import pandas as pd\n",
    "import plotly.express as px\n",
    "import streamlit as st\n",
    "\n",
    "# Display title and text\n",
    "st.title(\"Week 1 - Data and visualization\")\n",
    "st.markdown(\"Here we can see the dataframe created during this weeks project.\")\n",
    "\n",
    "# Read dataframe\n",
    "dataframe = pd.read_csv(\n",
    "    \"WK1_Airbnb_Amsterdam_listings_proj_solution.csv\",\n",
    "    names=[\n",
    "        \"Airbnb Listing ID\",\n",
    "        \"Price\",\n",
    "        \"Latitude\",\n",
    "        \"Longitude\",\n",
    "        \"Meters from chosen location\",\n",
    "        \"Location\",\n",
    "    ],\n",
    ")\n",
    "# We have a limited budget, therefore we would like to exclude\n",
    "# listings with a price above 100 pounds per night\n",
    "dataframe = dataframe[dataframe[\"Price\"] <= 100]\n",
    "\n",
    "# Display as integer\n",
    "dataframe[\"Airbnb Listing ID\"] = dataframe[\"Airbnb Listing ID\"].astype(int)\n",
    "# Round of values\n",
    "dataframe[\"Price\"] = \"£ \" + dataframe[\"Price\"].round(2).astype(str) # <--- CHANGE THIS POUND SYMBOL IF YOU CHOSE CURRENCY OTHER THAN POUND\n",
    "# Rename the number to a string\n",
    "dataframe[\"Location\"] = dataframe[\"Location\"].replace(\n",
    "    {1.0: \"To visit\", 0.0: \"Airbnb listing\"}\n",
    ")\n",
    "\n",
    "# Display dataframe and text\n",
    "st.dataframe(dataframe)\n",
    "st.markdown(\"Below is a map showing all the Airbnb listings with a red dot and the location we've chosen with a blue dot.\")\n",
    "\n",
    "# Create the plotly express figure\n",
    "fig = px.scatter_mapbox(\n",
    "    dataframe,\n",
    "    lat=\"Latitude\",\n",
    "    lon=\"Longitude\",\n",
    "    color=\"Location\",\n",
    "    zoom=11,\n",
    "    height=500,\n",
    "    width=800,\n",
    "    hover_name=\"Price\",\n",
    "    hover_data=[\"Meters from chosen location\", \"Location\"],\n",
    "    labels={\"color\": \"Locations\"},\n",
    ")\n",
    "fig.update_geos(center=dict(lat=dataframe.iloc[0][2], lon=dataframe.iloc[0][3]))\n",
    "fig.update_layout(mapbox_style=\"stamen-terrain\")\n",
    "\n",
    "# Show the figure\n",
    "st.plotly_chart(fig,use_container_width=True)"
   ]
  }
 ],
 "metadata": {
  "kernelspec": {
   "display_name": "Python 3",
   "language": "python",
   "name": "python3"
  },
  "language_info": {
   "codemirror_mode": {
    "name": "ipython",
    "version": 3
   },
   "file_extension": ".py",
   "mimetype": "text/x-python",
   "name": "python",
   "nbconvert_exporter": "python",
   "pygments_lexer": "ipython3",
   "version": "3.8.5"
  }
 },
 "nbformat": 4,
 "nbformat_minor": 4
}
